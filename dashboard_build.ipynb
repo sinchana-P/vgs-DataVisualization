{
 "cells": [
  {
   "cell_type": "code",
   "execution_count": 40,
   "id": "f5fa5f56-c52b-48fa-8128-d536b735b0ef",
   "metadata": {
    "tags": []
   },
   "outputs": [
    {
     "name": "stdout",
     "output_type": "stream",
     "text": [
      "Requirement already satisfied: pywedge in c:\\users\\sinch\\anaconda3\\lib\\site-packages (0.5.1.8)\n",
      "Requirement already satisfied: numpy in c:\\users\\sinch\\anaconda3\\lib\\site-packages (from pywedge) (1.23.5)\n",
      "Requirement already satisfied: imbalanced-learn in c:\\users\\sinch\\anaconda3\\lib\\site-packages (from pywedge) (0.10.1)\n",
      "Requirement already satisfied: ipywidgets in c:\\users\\sinch\\anaconda3\\lib\\site-packages (from pywedge) (7.6.5)\n",
      "Requirement already satisfied: pandas in c:\\users\\sinch\\anaconda3\\lib\\site-packages (from pywedge) (1.5.3)\n",
      "Requirement already satisfied: catboost>0.24 in c:\\users\\sinch\\anaconda3\\lib\\site-packages (from pywedge) (1.2)\n",
      "Requirement already satisfied: plotly in c:\\users\\sinch\\anaconda3\\lib\\site-packages (from pywedge) (5.9.0)\n",
      "Requirement already satisfied: scikit-learn in c:\\users\\sinch\\anaconda3\\lib\\site-packages (from pywedge) (1.2.1)\n",
      "Requirement already satisfied: tqdm in c:\\users\\sinch\\anaconda3\\lib\\site-packages (from pywedge) (4.64.1)\n",
      "Requirement already satisfied: xgboost in c:\\users\\sinch\\anaconda3\\lib\\site-packages (from pywedge) (1.7.5)\n",
      "Requirement already satisfied: matplotlib in c:\\users\\sinch\\anaconda3\\lib\\site-packages (from catboost>0.24->pywedge) (3.7.0)\n",
      "Requirement already satisfied: six in c:\\users\\sinch\\anaconda3\\lib\\site-packages (from catboost>0.24->pywedge) (1.16.0)\n",
      "Requirement already satisfied: graphviz in c:\\users\\sinch\\anaconda3\\lib\\site-packages (from catboost>0.24->pywedge) (0.20.1)\n",
      "Requirement already satisfied: scipy in c:\\users\\sinch\\anaconda3\\lib\\site-packages (from catboost>0.24->pywedge) (1.10.0)\n",
      "Requirement already satisfied: python-dateutil>=2.8.1 in c:\\users\\sinch\\anaconda3\\lib\\site-packages (from pandas->pywedge) (2.8.2)\n",
      "Requirement already satisfied: pytz>=2020.1 in c:\\users\\sinch\\anaconda3\\lib\\site-packages (from pandas->pywedge) (2022.7)\n",
      "Requirement already satisfied: threadpoolctl>=2.0.0 in c:\\users\\sinch\\anaconda3\\lib\\site-packages (from imbalanced-learn->pywedge) (2.2.0)\n",
      "Requirement already satisfied: joblib>=1.1.1 in c:\\users\\sinch\\anaconda3\\lib\\site-packages (from imbalanced-learn->pywedge) (1.1.1)\n",
      "Requirement already satisfied: traitlets>=4.3.1 in c:\\users\\sinch\\anaconda3\\lib\\site-packages (from ipywidgets->pywedge) (5.7.1)\n",
      "Requirement already satisfied: nbformat>=4.2.0 in c:\\users\\sinch\\anaconda3\\lib\\site-packages (from ipywidgets->pywedge) (5.7.0)\n",
      "Requirement already satisfied: ipykernel>=4.5.1 in c:\\users\\sinch\\anaconda3\\lib\\site-packages (from ipywidgets->pywedge) (6.19.2)\n",
      "Requirement already satisfied: widgetsnbextension~=3.5.0 in c:\\users\\sinch\\anaconda3\\lib\\site-packages (from ipywidgets->pywedge) (3.5.2)\n",
      "Requirement already satisfied: ipython>=4.0.0 in c:\\users\\sinch\\anaconda3\\lib\\site-packages (from ipywidgets->pywedge) (8.10.0)\n",
      "Requirement already satisfied: jupyterlab-widgets>=1.0.0 in c:\\users\\sinch\\anaconda3\\lib\\site-packages (from ipywidgets->pywedge) (1.0.0)\n",
      "Requirement already satisfied: ipython-genutils~=0.2.0 in c:\\users\\sinch\\anaconda3\\lib\\site-packages (from ipywidgets->pywedge) (0.2.0)\n",
      "Requirement already satisfied: tenacity>=6.2.0 in c:\\users\\sinch\\anaconda3\\lib\\site-packages (from plotly->pywedge) (8.0.1)\n",
      "Requirement already satisfied: colorama in c:\\users\\sinch\\anaconda3\\lib\\site-packages (from tqdm->pywedge) (0.4.6)\n",
      "Requirement already satisfied: nest-asyncio in c:\\users\\sinch\\anaconda3\\lib\\site-packages (from ipykernel>=4.5.1->ipywidgets->pywedge) (1.5.6)\n",
      "Requirement already satisfied: tornado>=6.1 in c:\\users\\sinch\\anaconda3\\lib\\site-packages (from ipykernel>=4.5.1->ipywidgets->pywedge) (6.1)\n",
      "Requirement already satisfied: pyzmq>=17 in c:\\users\\sinch\\anaconda3\\lib\\site-packages (from ipykernel>=4.5.1->ipywidgets->pywedge) (23.2.0)\n",
      "Requirement already satisfied: comm>=0.1.1 in c:\\users\\sinch\\anaconda3\\lib\\site-packages (from ipykernel>=4.5.1->ipywidgets->pywedge) (0.1.2)\n",
      "Requirement already satisfied: jupyter-client>=6.1.12 in c:\\users\\sinch\\anaconda3\\lib\\site-packages (from ipykernel>=4.5.1->ipywidgets->pywedge) (7.3.4)\n",
      "Requirement already satisfied: packaging in c:\\users\\sinch\\anaconda3\\lib\\site-packages (from ipykernel>=4.5.1->ipywidgets->pywedge) (22.0)\n",
      "Requirement already satisfied: debugpy>=1.0 in c:\\users\\sinch\\anaconda3\\lib\\site-packages (from ipykernel>=4.5.1->ipywidgets->pywedge) (1.5.1)\n",
      "Requirement already satisfied: matplotlib-inline>=0.1 in c:\\users\\sinch\\anaconda3\\lib\\site-packages (from ipykernel>=4.5.1->ipywidgets->pywedge) (0.1.6)\n",
      "Requirement already satisfied: psutil in c:\\users\\sinch\\anaconda3\\lib\\site-packages (from ipykernel>=4.5.1->ipywidgets->pywedge) (5.9.0)\n",
      "Requirement already satisfied: stack-data in c:\\users\\sinch\\anaconda3\\lib\\site-packages (from ipython>=4.0.0->ipywidgets->pywedge) (0.2.0)\n",
      "Requirement already satisfied: pickleshare in c:\\users\\sinch\\anaconda3\\lib\\site-packages (from ipython>=4.0.0->ipywidgets->pywedge) (0.7.5)\n",
      "Requirement already satisfied: backcall in c:\\users\\sinch\\anaconda3\\lib\\site-packages (from ipython>=4.0.0->ipywidgets->pywedge) (0.2.0)\n",
      "Requirement already satisfied: decorator in c:\\users\\sinch\\anaconda3\\lib\\site-packages (from ipython>=4.0.0->ipywidgets->pywedge) (5.1.1)\n",
      "Requirement already satisfied: pygments>=2.4.0 in c:\\users\\sinch\\anaconda3\\lib\\site-packages (from ipython>=4.0.0->ipywidgets->pywedge) (2.11.2)\n",
      "Requirement already satisfied: prompt-toolkit<3.1.0,>=3.0.30 in c:\\users\\sinch\\anaconda3\\lib\\site-packages (from ipython>=4.0.0->ipywidgets->pywedge) (3.0.36)\n",
      "Requirement already satisfied: jedi>=0.16 in c:\\users\\sinch\\anaconda3\\lib\\site-packages (from ipython>=4.0.0->ipywidgets->pywedge) (0.18.1)\n",
      "Requirement already satisfied: jupyter-core in c:\\users\\sinch\\anaconda3\\lib\\site-packages (from nbformat>=4.2.0->ipywidgets->pywedge) (5.2.0)\n",
      "Requirement already satisfied: fastjsonschema in c:\\users\\sinch\\anaconda3\\lib\\site-packages (from nbformat>=4.2.0->ipywidgets->pywedge) (2.16.2)\n",
      "Requirement already satisfied: jsonschema>=2.6 in c:\\users\\sinch\\anaconda3\\lib\\site-packages (from nbformat>=4.2.0->ipywidgets->pywedge) (4.17.3)\n",
      "Requirement already satisfied: notebook>=4.4.1 in c:\\users\\sinch\\anaconda3\\lib\\site-packages (from widgetsnbextension~=3.5.0->ipywidgets->pywedge) (6.5.2)\n",
      "Requirement already satisfied: contourpy>=1.0.1 in c:\\users\\sinch\\anaconda3\\lib\\site-packages (from matplotlib->catboost>0.24->pywedge) (1.0.5)\n",
      "Requirement already satisfied: pillow>=6.2.0 in c:\\users\\sinch\\anaconda3\\lib\\site-packages (from matplotlib->catboost>0.24->pywedge) (9.4.0)\n",
      "Requirement already satisfied: cycler>=0.10 in c:\\users\\sinch\\anaconda3\\lib\\site-packages (from matplotlib->catboost>0.24->pywedge) (0.11.0)\n",
      "Requirement already satisfied: kiwisolver>=1.0.1 in c:\\users\\sinch\\anaconda3\\lib\\site-packages (from matplotlib->catboost>0.24->pywedge) (1.4.4)\n",
      "Requirement already satisfied: pyparsing>=2.3.1 in c:\\users\\sinch\\anaconda3\\lib\\site-packages (from matplotlib->catboost>0.24->pywedge) (3.0.9)\n",
      "Requirement already satisfied: fonttools>=4.22.0 in c:\\users\\sinch\\anaconda3\\lib\\site-packages (from matplotlib->catboost>0.24->pywedge) (4.25.0)\n",
      "Requirement already satisfied: parso<0.9.0,>=0.8.0 in c:\\users\\sinch\\anaconda3\\lib\\site-packages (from jedi>=0.16->ipython>=4.0.0->ipywidgets->pywedge) (0.8.3)\n",
      "Requirement already satisfied: pyrsistent!=0.17.0,!=0.17.1,!=0.17.2,>=0.14.0 in c:\\users\\sinch\\anaconda3\\lib\\site-packages (from jsonschema>=2.6->nbformat>=4.2.0->ipywidgets->pywedge) (0.18.0)\n",
      "Requirement already satisfied: attrs>=17.4.0 in c:\\users\\sinch\\anaconda3\\lib\\site-packages (from jsonschema>=2.6->nbformat>=4.2.0->ipywidgets->pywedge) (22.1.0)\n",
      "Requirement already satisfied: entrypoints in c:\\users\\sinch\\anaconda3\\lib\\site-packages (from jupyter-client>=6.1.12->ipykernel>=4.5.1->ipywidgets->pywedge) (0.4)\n",
      "Requirement already satisfied: platformdirs>=2.5 in c:\\users\\sinch\\anaconda3\\lib\\site-packages (from jupyter-core->nbformat>=4.2.0->ipywidgets->pywedge) (2.5.2)\n",
      "Requirement already satisfied: pywin32>=1.0 in c:\\users\\sinch\\anaconda3\\lib\\site-packages (from jupyter-core->nbformat>=4.2.0->ipywidgets->pywedge) (305.1)\n",
      "Requirement already satisfied: argon2-cffi in c:\\users\\sinch\\anaconda3\\lib\\site-packages (from notebook>=4.4.1->widgetsnbextension~=3.5.0->ipywidgets->pywedge) (21.3.0)\n",
      "Requirement already satisfied: jinja2 in c:\\users\\sinch\\anaconda3\\lib\\site-packages (from notebook>=4.4.1->widgetsnbextension~=3.5.0->ipywidgets->pywedge) (3.1.2)\n",
      "Requirement already satisfied: terminado>=0.8.3 in c:\\users\\sinch\\anaconda3\\lib\\site-packages (from notebook>=4.4.1->widgetsnbextension~=3.5.0->ipywidgets->pywedge) (0.17.1)\n",
      "Requirement already satisfied: nbclassic>=0.4.7 in c:\\users\\sinch\\anaconda3\\lib\\site-packages (from notebook>=4.4.1->widgetsnbextension~=3.5.0->ipywidgets->pywedge) (0.5.2)\n",
      "Requirement already satisfied: Send2Trash>=1.8.0 in c:\\users\\sinch\\anaconda3\\lib\\site-packages (from notebook>=4.4.1->widgetsnbextension~=3.5.0->ipywidgets->pywedge) (1.8.0)\n",
      "Requirement already satisfied: nbconvert>=5 in c:\\users\\sinch\\anaconda3\\lib\\site-packages (from notebook>=4.4.1->widgetsnbextension~=3.5.0->ipywidgets->pywedge) (6.5.4)\n",
      "Requirement already satisfied: prometheus-client in c:\\users\\sinch\\anaconda3\\lib\\site-packages (from notebook>=4.4.1->widgetsnbextension~=3.5.0->ipywidgets->pywedge) (0.14.1)\n",
      "Requirement already satisfied: wcwidth in c:\\users\\sinch\\anaconda3\\lib\\site-packages (from prompt-toolkit<3.1.0,>=3.0.30->ipython>=4.0.0->ipywidgets->pywedge) (0.2.5)\n",
      "Requirement already satisfied: pure-eval in c:\\users\\sinch\\anaconda3\\lib\\site-packages (from stack-data->ipython>=4.0.0->ipywidgets->pywedge) (0.2.2)\n",
      "Requirement already satisfied: executing in c:\\users\\sinch\\anaconda3\\lib\\site-packages (from stack-data->ipython>=4.0.0->ipywidgets->pywedge) (0.8.3)\n",
      "Requirement already satisfied: asttokens in c:\\users\\sinch\\anaconda3\\lib\\site-packages (from stack-data->ipython>=4.0.0->ipywidgets->pywedge) (2.0.5)\n",
      "Requirement already satisfied: notebook-shim>=0.1.0 in c:\\users\\sinch\\anaconda3\\lib\\site-packages (from nbclassic>=0.4.7->notebook>=4.4.1->widgetsnbextension~=3.5.0->ipywidgets->pywedge) (0.2.2)\n",
      "Requirement already satisfied: jupyter-server>=1.8 in c:\\users\\sinch\\anaconda3\\lib\\site-packages (from nbclassic>=0.4.7->notebook>=4.4.1->widgetsnbextension~=3.5.0->ipywidgets->pywedge) (1.23.4)\n",
      "Requirement already satisfied: bleach in c:\\users\\sinch\\anaconda3\\lib\\site-packages (from nbconvert>=5->notebook>=4.4.1->widgetsnbextension~=3.5.0->ipywidgets->pywedge) (4.1.0)\n",
      "Requirement already satisfied: nbclient>=0.5.0 in c:\\users\\sinch\\anaconda3\\lib\\site-packages (from nbconvert>=5->notebook>=4.4.1->widgetsnbextension~=3.5.0->ipywidgets->pywedge) (0.5.13)\n",
      "Requirement already satisfied: defusedxml in c:\\users\\sinch\\anaconda3\\lib\\site-packages (from nbconvert>=5->notebook>=4.4.1->widgetsnbextension~=3.5.0->ipywidgets->pywedge) (0.7.1)\n",
      "Requirement already satisfied: jupyterlab-pygments in c:\\users\\sinch\\anaconda3\\lib\\site-packages (from nbconvert>=5->notebook>=4.4.1->widgetsnbextension~=3.5.0->ipywidgets->pywedge) (0.1.2)\n",
      "Requirement already satisfied: beautifulsoup4 in c:\\users\\sinch\\anaconda3\\lib\\site-packages (from nbconvert>=5->notebook>=4.4.1->widgetsnbextension~=3.5.0->ipywidgets->pywedge) (4.11.1)\n",
      "Requirement already satisfied: MarkupSafe>=2.0 in c:\\users\\sinch\\anaconda3\\lib\\site-packages (from nbconvert>=5->notebook>=4.4.1->widgetsnbextension~=3.5.0->ipywidgets->pywedge) (2.1.1)\n",
      "Requirement already satisfied: tinycss2 in c:\\users\\sinch\\anaconda3\\lib\\site-packages (from nbconvert>=5->notebook>=4.4.1->widgetsnbextension~=3.5.0->ipywidgets->pywedge) (1.2.1)\n",
      "Requirement already satisfied: pandocfilters>=1.4.1 in c:\\users\\sinch\\anaconda3\\lib\\site-packages (from nbconvert>=5->notebook>=4.4.1->widgetsnbextension~=3.5.0->ipywidgets->pywedge) (1.5.0)\n",
      "Requirement already satisfied: mistune<2,>=0.8.1 in c:\\users\\sinch\\anaconda3\\lib\\site-packages (from nbconvert>=5->notebook>=4.4.1->widgetsnbextension~=3.5.0->ipywidgets->pywedge) (0.8.4)\n",
      "Requirement already satisfied: lxml in c:\\users\\sinch\\anaconda3\\lib\\site-packages (from nbconvert>=5->notebook>=4.4.1->widgetsnbextension~=3.5.0->ipywidgets->pywedge) (4.9.1)\n",
      "Requirement already satisfied: pywinpty>=1.1.0 in c:\\users\\sinch\\anaconda3\\lib\\site-packages (from terminado>=0.8.3->notebook>=4.4.1->widgetsnbextension~=3.5.0->ipywidgets->pywedge) (2.0.10)\n",
      "Requirement already satisfied: argon2-cffi-bindings in c:\\users\\sinch\\anaconda3\\lib\\site-packages (from argon2-cffi->notebook>=4.4.1->widgetsnbextension~=3.5.0->ipywidgets->pywedge) (21.2.0)\n",
      "Requirement already satisfied: websocket-client in c:\\users\\sinch\\anaconda3\\lib\\site-packages (from jupyter-server>=1.8->nbclassic>=0.4.7->notebook>=4.4.1->widgetsnbextension~=3.5.0->ipywidgets->pywedge) (0.58.0)\n",
      "Requirement already satisfied: anyio<4,>=3.1.0 in c:\\users\\sinch\\anaconda3\\lib\\site-packages (from jupyter-server>=1.8->nbclassic>=0.4.7->notebook>=4.4.1->widgetsnbextension~=3.5.0->ipywidgets->pywedge) (3.5.0)\n",
      "Requirement already satisfied: cffi>=1.0.1 in c:\\users\\sinch\\anaconda3\\lib\\site-packages (from argon2-cffi-bindings->argon2-cffi->notebook>=4.4.1->widgetsnbextension~=3.5.0->ipywidgets->pywedge) (1.15.1)\n",
      "Requirement already satisfied: soupsieve>1.2 in c:\\users\\sinch\\anaconda3\\lib\\site-packages (from beautifulsoup4->nbconvert>=5->notebook>=4.4.1->widgetsnbextension~=3.5.0->ipywidgets->pywedge) (2.3.2.post1)\n",
      "Requirement already satisfied: webencodings in c:\\users\\sinch\\anaconda3\\lib\\site-packages (from bleach->nbconvert>=5->notebook>=4.4.1->widgetsnbextension~=3.5.0->ipywidgets->pywedge) (0.5.1)\n",
      "Requirement already satisfied: idna>=2.8 in c:\\users\\sinch\\anaconda3\\lib\\site-packages (from anyio<4,>=3.1.0->jupyter-server>=1.8->nbclassic>=0.4.7->notebook>=4.4.1->widgetsnbextension~=3.5.0->ipywidgets->pywedge) (3.4)\n",
      "Requirement already satisfied: sniffio>=1.1 in c:\\users\\sinch\\anaconda3\\lib\\site-packages (from anyio<4,>=3.1.0->jupyter-server>=1.8->nbclassic>=0.4.7->notebook>=4.4.1->widgetsnbextension~=3.5.0->ipywidgets->pywedge) (1.2.0)\n",
      "Requirement already satisfied: pycparser in c:\\users\\sinch\\anaconda3\\lib\\site-packages (from cffi>=1.0.1->argon2-cffi-bindings->argon2-cffi->notebook>=4.4.1->widgetsnbextension~=3.5.0->ipywidgets->pywedge) (2.21)\n"
     ]
    }
   ],
   "source": [
    "!pip install pywedge"
   ]
  },
  {
   "cell_type": "code",
   "execution_count": 41,
   "id": "e23b1038-a7a4-4438-be90-cb34683bf195",
   "metadata": {},
   "outputs": [],
   "source": [
    "import pandas as pd\n",
    "import pywedge as pw"
   ]
  },
  {
   "cell_type": "code",
   "execution_count": 42,
   "id": "5ed9d306-3af8-4457-ab9d-3d3ef6564bdb",
   "metadata": {
    "tags": []
   },
   "outputs": [],
   "source": [
    "df = pd.read_csv(\"vgsales.csv\")"
   ]
  },
  {
   "cell_type": "code",
   "execution_count": 43,
   "id": "5a659ab6-c82a-4b13-9615-151171e1c884",
   "metadata": {
    "tags": []
   },
   "outputs": [
    {
     "data": {
      "text/html": [
       "<div>\n",
       "<style scoped>\n",
       "    .dataframe tbody tr th:only-of-type {\n",
       "        vertical-align: middle;\n",
       "    }\n",
       "\n",
       "    .dataframe tbody tr th {\n",
       "        vertical-align: top;\n",
       "    }\n",
       "\n",
       "    .dataframe thead th {\n",
       "        text-align: right;\n",
       "    }\n",
       "</style>\n",
       "<table border=\"1\" class=\"dataframe\">\n",
       "  <thead>\n",
       "    <tr style=\"text-align: right;\">\n",
       "      <th></th>\n",
       "      <th>Rank</th>\n",
       "      <th>Name</th>\n",
       "      <th>Platform</th>\n",
       "      <th>Year</th>\n",
       "      <th>Genre</th>\n",
       "      <th>Publisher</th>\n",
       "      <th>NA_Sales</th>\n",
       "      <th>EU_Sales</th>\n",
       "      <th>JP_Sales</th>\n",
       "      <th>Other_Sales</th>\n",
       "      <th>Global_Sales</th>\n",
       "    </tr>\n",
       "  </thead>\n",
       "  <tbody>\n",
       "    <tr>\n",
       "      <th>0</th>\n",
       "      <td>1</td>\n",
       "      <td>Wii Sports</td>\n",
       "      <td>Wii</td>\n",
       "      <td>2006.0</td>\n",
       "      <td>Sports</td>\n",
       "      <td>Nintendo</td>\n",
       "      <td>41.49</td>\n",
       "      <td>29.02</td>\n",
       "      <td>3.77</td>\n",
       "      <td>8.46</td>\n",
       "      <td>82.74</td>\n",
       "    </tr>\n",
       "    <tr>\n",
       "      <th>1</th>\n",
       "      <td>2</td>\n",
       "      <td>Super Mario Bros.</td>\n",
       "      <td>NES</td>\n",
       "      <td>1985.0</td>\n",
       "      <td>Platform</td>\n",
       "      <td>Nintendo</td>\n",
       "      <td>29.08</td>\n",
       "      <td>3.58</td>\n",
       "      <td>6.81</td>\n",
       "      <td>0.77</td>\n",
       "      <td>40.24</td>\n",
       "    </tr>\n",
       "    <tr>\n",
       "      <th>2</th>\n",
       "      <td>3</td>\n",
       "      <td>Mario Kart Wii</td>\n",
       "      <td>Wii</td>\n",
       "      <td>2008.0</td>\n",
       "      <td>Racing</td>\n",
       "      <td>Nintendo</td>\n",
       "      <td>15.85</td>\n",
       "      <td>12.88</td>\n",
       "      <td>3.79</td>\n",
       "      <td>3.31</td>\n",
       "      <td>35.82</td>\n",
       "    </tr>\n",
       "  </tbody>\n",
       "</table>\n",
       "</div>"
      ],
      "text/plain": [
       "   Rank               Name Platform    Year     Genre Publisher  NA_Sales  \\\n",
       "0     1         Wii Sports      Wii  2006.0    Sports  Nintendo     41.49   \n",
       "1     2  Super Mario Bros.      NES  1985.0  Platform  Nintendo     29.08   \n",
       "2     3     Mario Kart Wii      Wii  2008.0    Racing  Nintendo     15.85   \n",
       "\n",
       "   EU_Sales  JP_Sales  Other_Sales  Global_Sales  \n",
       "0     29.02      3.77         8.46         82.74  \n",
       "1      3.58      6.81         0.77         40.24  \n",
       "2     12.88      3.79         3.31         35.82  "
      ]
     },
     "execution_count": 43,
     "metadata": {},
     "output_type": "execute_result"
    }
   ],
   "source": [
    "df.head(3)"
   ]
  },
  {
   "cell_type": "code",
   "execution_count": 44,
   "id": "2be947cc-e160-4759-9411-b4f564986c72",
   "metadata": {
    "tags": []
   },
   "outputs": [
    {
     "data": {
      "text/plain": [
       "Index(['Rank', 'Name', 'Platform', 'Year', 'Genre', 'Publisher', 'NA_Sales',\n",
       "       'EU_Sales', 'JP_Sales', 'Other_Sales', 'Global_Sales'],\n",
       "      dtype='object')"
      ]
     },
     "execution_count": 44,
     "metadata": {},
     "output_type": "execute_result"
    }
   ],
   "source": [
    "df.columns"
   ]
  },
  {
   "cell_type": "code",
   "execution_count": 45,
   "id": "92b3fab4-fcdf-477e-aa44-69b0bcc60530",
   "metadata": {
    "tags": []
   },
   "outputs": [],
   "source": [
    "# TWO imp commands to create Dashboards :\n",
    "\n",
    "# 1. mc = pw.Pywedge_Charts(df,c=None, y=\"Global_Sales\")\n",
    "# 2. charts = mc.make_charts()"
   ]
  },
  {
   "cell_type": "code",
   "execution_count": 46,
   "id": "e8b18e72-f4fd-4024-9eb4-79cbe739cb62",
   "metadata": {
    "tags": []
   },
   "outputs": [
    {
     "name": "stderr",
     "output_type": "stream",
     "text": [
      "C:\\Users\\sinch\\anaconda3\\lib\\site-packages\\pywedge\\pywedge.py:27: FutureWarning:\n",
      "\n",
      "In a future version of pandas all arguments of DataFrame.drop except for the argument 'labels' will be keyword-only.\n",
      "\n"
     ]
    }
   ],
   "source": [
    "# mc = pw.Pywedge_Charts(df, c=None, y=\"Genre\")"
   ]
  },
  {
   "cell_type": "code",
   "execution_count": 53,
   "id": "be05741a-05ae-4ff1-9590-a5b9a474310f",
   "metadata": {
    "tags": []
   },
   "outputs": [
    {
     "name": "stderr",
     "output_type": "stream",
     "text": [
      "C:\\Users\\sinch\\anaconda3\\lib\\site-packages\\pywedge\\pywedge.py:27: FutureWarning:\n",
      "\n",
      "In a future version of pandas all arguments of DataFrame.drop except for the argument 'labels' will be keyword-only.\n",
      "\n"
     ]
    }
   ],
   "source": [
    "c = None\n",
    "y = \"Genre\"\n",
    "mc = pw.Pywedge_Charts(df,c,y)"
   ]
  },
  {
   "cell_type": "code",
   "execution_count": 54,
   "id": "9e579f0c-a6fe-4a81-908b-422cfdf5d3e1",
   "metadata": {},
   "outputs": [
    {
     "data": {
      "application/vnd.jupyter.widget-view+json": {
       "model_id": "ca89bcd9e5e94bcbb0487119c379a0e4",
       "version_major": 2,
       "version_minor": 0
      },
      "text/plain": [
       "HTML(value='<h2>Pywedge Make_Charts </h2>')"
      ]
     },
     "metadata": {},
     "output_type": "display_data"
    },
    {
     "data": {
      "application/vnd.jupyter.widget-view+json": {
       "model_id": "90046f2bf01743abb176a061dfb645d4",
       "version_major": 2,
       "version_minor": 0
      },
      "text/plain": [
       "Tab(children=(Output(), Output(), Output(), Output(), Output(), Output(), Output(), Output()), _titles={'0': '…"
      ]
     },
     "metadata": {},
     "output_type": "display_data"
    }
   ],
   "source": [
    "charts = mc.make_charts()"
   ]
  }
 ],
 "metadata": {
  "kernelspec": {
   "display_name": "Python 3 (ipykernel)",
   "language": "python",
   "name": "python3"
  },
  "language_info": {
   "codemirror_mode": {
    "name": "ipython",
    "version": 3
   },
   "file_extension": ".py",
   "mimetype": "text/x-python",
   "name": "python",
   "nbconvert_exporter": "python",
   "pygments_lexer": "ipython3",
   "version": "3.10.9"
  }
 },
 "nbformat": 4,
 "nbformat_minor": 5
}
