{
  "cells": [
    {
      "cell_type": "code",
      "execution_count": null,
      "id": "f5fa5f56-c52b-48fa-8128-d536b735b0ef",
      "metadata": {
        "tags": [],
        "id": "f5fa5f56-c52b-48fa-8128-d536b735b0ef"
      },
      "outputs": [],
      "source": [
        "!pip install pywedge"
      ]
    },
    {
      "cell_type": "code",
      "execution_count": null,
      "id": "e23b1038-a7a4-4438-be90-cb34683bf195",
      "metadata": {
        "id": "e23b1038-a7a4-4438-be90-cb34683bf195"
      },
      "outputs": [],
      "source": [
        "import pandas as pd\n",
        "import pywedge as pw"
      ]
    },
    {
      "cell_type": "code",
      "execution_count": null,
      "id": "5ed9d306-3af8-4457-ab9d-3d3ef6564bdb",
      "metadata": {
        "tags": [],
        "id": "5ed9d306-3af8-4457-ab9d-3d3ef6564bdb"
      },
      "outputs": [],
      "source": [
        "df = pd.read_csv(\"vgsales.csv\")"
      ]
    },
    {
      "cell_type": "code",
      "execution_count": null,
      "id": "5a659ab6-c82a-4b13-9615-151171e1c884",
      "metadata": {
        "tags": [],
        "id": "5a659ab6-c82a-4b13-9615-151171e1c884",
        "outputId": "55351fe3-7a73-4cd9-e4cd-6142ff03fa81"
      },
      "outputs": [
        {
          "data": {
            "text/html": [
              "<div>\n",
              "<style scoped>\n",
              "    .dataframe tbody tr th:only-of-type {\n",
              "        vertical-align: middle;\n",
              "    }\n",
              "\n",
              "    .dataframe tbody tr th {\n",
              "        vertical-align: top;\n",
              "    }\n",
              "\n",
              "    .dataframe thead th {\n",
              "        text-align: right;\n",
              "    }\n",
              "</style>\n",
              "<table border=\"1\" class=\"dataframe\">\n",
              "  <thead>\n",
              "    <tr style=\"text-align: right;\">\n",
              "      <th></th>\n",
              "      <th>Rank</th>\n",
              "      <th>Name</th>\n",
              "      <th>Platform</th>\n",
              "      <th>Year</th>\n",
              "      <th>Genre</th>\n",
              "      <th>Publisher</th>\n",
              "      <th>NA_Sales</th>\n",
              "      <th>EU_Sales</th>\n",
              "      <th>JP_Sales</th>\n",
              "      <th>Other_Sales</th>\n",
              "      <th>Global_Sales</th>\n",
              "    </tr>\n",
              "  </thead>\n",
              "  <tbody>\n",
              "    <tr>\n",
              "      <th>0</th>\n",
              "      <td>1</td>\n",
              "      <td>Wii Sports</td>\n",
              "      <td>Wii</td>\n",
              "      <td>2006.0</td>\n",
              "      <td>Sports</td>\n",
              "      <td>Nintendo</td>\n",
              "      <td>41.49</td>\n",
              "      <td>29.02</td>\n",
              "      <td>3.77</td>\n",
              "      <td>8.46</td>\n",
              "      <td>82.74</td>\n",
              "    </tr>\n",
              "    <tr>\n",
              "      <th>1</th>\n",
              "      <td>2</td>\n",
              "      <td>Super Mario Bros.</td>\n",
              "      <td>NES</td>\n",
              "      <td>1985.0</td>\n",
              "      <td>Platform</td>\n",
              "      <td>Nintendo</td>\n",
              "      <td>29.08</td>\n",
              "      <td>3.58</td>\n",
              "      <td>6.81</td>\n",
              "      <td>0.77</td>\n",
              "      <td>40.24</td>\n",
              "    </tr>\n",
              "    <tr>\n",
              "      <th>2</th>\n",
              "      <td>3</td>\n",
              "      <td>Mario Kart Wii</td>\n",
              "      <td>Wii</td>\n",
              "      <td>2008.0</td>\n",
              "      <td>Racing</td>\n",
              "      <td>Nintendo</td>\n",
              "      <td>15.85</td>\n",
              "      <td>12.88</td>\n",
              "      <td>3.79</td>\n",
              "      <td>3.31</td>\n",
              "      <td>35.82</td>\n",
              "    </tr>\n",
              "  </tbody>\n",
              "</table>\n",
              "</div>"
            ],
            "text/plain": [
              "   Rank               Name Platform    Year     Genre Publisher  NA_Sales  \\\n",
              "0     1         Wii Sports      Wii  2006.0    Sports  Nintendo     41.49   \n",
              "1     2  Super Mario Bros.      NES  1985.0  Platform  Nintendo     29.08   \n",
              "2     3     Mario Kart Wii      Wii  2008.0    Racing  Nintendo     15.85   \n",
              "\n",
              "   EU_Sales  JP_Sales  Other_Sales  Global_Sales  \n",
              "0     29.02      3.77         8.46         82.74  \n",
              "1      3.58      6.81         0.77         40.24  \n",
              "2     12.88      3.79         3.31         35.82  "
            ]
          },
          "execution_count": 43,
          "metadata": {},
          "output_type": "execute_result"
        }
      ],
      "source": [
        "df.head(3)"
      ]
    },
    {
      "cell_type": "code",
      "execution_count": null,
      "id": "2be947cc-e160-4759-9411-b4f564986c72",
      "metadata": {
        "tags": [],
        "id": "2be947cc-e160-4759-9411-b4f564986c72",
        "outputId": "9f7b459a-cbd1-4f60-9e0b-1d858203bf5d"
      },
      "outputs": [
        {
          "data": {
            "text/plain": [
              "Index(['Rank', 'Name', 'Platform', 'Year', 'Genre', 'Publisher', 'NA_Sales',\n",
              "       'EU_Sales', 'JP_Sales', 'Other_Sales', 'Global_Sales'],\n",
              "      dtype='object')"
            ]
          },
          "execution_count": 44,
          "metadata": {},
          "output_type": "execute_result"
        }
      ],
      "source": [
        "df.columns"
      ]
    },
    {
      "cell_type": "code",
      "execution_count": null,
      "id": "92b3fab4-fcdf-477e-aa44-69b0bcc60530",
      "metadata": {
        "tags": [],
        "id": "92b3fab4-fcdf-477e-aa44-69b0bcc60530"
      },
      "outputs": [],
      "source": [
        "# TWO imp commands to create Dashboards :\n",
        "\n",
        "# 1. mc = pw.Pywedge_Charts(df,c=None, y=\"Global_Sales\")\n",
        "# 2. charts = mc.make_charts()"
      ]
    },
    {
      "cell_type": "code",
      "execution_count": null,
      "id": "e8b18e72-f4fd-4024-9eb4-79cbe739cb62",
      "metadata": {
        "tags": [],
        "id": "e8b18e72-f4fd-4024-9eb4-79cbe739cb62"
      },
      "outputs": [],
      "source": [
        "# mc = pw.Pywedge_Charts(df, c=None, y=\"Genre\")"
      ]
    },
    {
      "cell_type": "code",
      "execution_count": null,
      "id": "be05741a-05ae-4ff1-9590-a5b9a474310f",
      "metadata": {
        "tags": [],
        "id": "be05741a-05ae-4ff1-9590-a5b9a474310f"
      },
      "outputs": [],
      "source": [
        "c = None\n",
        "y = \"Genre\"\n",
        "mc = pw.Pywedge_Charts(df,c,y)"
      ]
    },
    {
      "cell_type": "code",
      "execution_count": null,
      "id": "9e579f0c-a6fe-4a81-908b-422cfdf5d3e1",
      "metadata": {
        "id": "9e579f0c-a6fe-4a81-908b-422cfdf5d3e1"
      },
      "outputs": [],
      "source": [
        "charts = mc.make_charts()"
      ]
    }
  ],
  "metadata": {
    "kernelspec": {
      "display_name": "Python 3 (ipykernel)",
      "language": "python",
      "name": "python3"
    },
    "language_info": {
      "codemirror_mode": {
        "name": "ipython",
        "version": 3
      },
      "file_extension": ".py",
      "mimetype": "text/x-python",
      "name": "python",
      "nbconvert_exporter": "python",
      "pygments_lexer": "ipython3",
      "version": "3.10.9"
    },
    "colab": {
      "provenance": []
    }
  },
  "nbformat": 4,
  "nbformat_minor": 5
}